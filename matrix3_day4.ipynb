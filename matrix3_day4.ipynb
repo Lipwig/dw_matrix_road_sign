{
  "nbformat": 4,
  "nbformat_minor": 0,
  "metadata": {
    "colab": {
      "name": "matrix3_day4.ipynb",
      "provenance": [],
      "mount_file_id": "1UhrFQAvUG29hCXbIm5J9zNl-YWL39yTk",
      "authorship_tag": "ABX9TyNTu1BPctLVFb7NjyT8p72E",
      "include_colab_link": true
    },
    "kernelspec": {
      "name": "python3",
      "display_name": "Python 3"
    },
    "accelerator": "GPU"
  },
  "cells": [
    {
      "cell_type": "markdown",
      "metadata": {
        "id": "view-in-github",
        "colab_type": "text"
      },
      "source": [
        "<a href=\"https://colab.research.google.com/github/Lipwig/dw_matrix_road_sign/blob/master/matrix3_day4.ipynb\" target=\"_parent\"><img src=\"https://colab.research.google.com/assets/colab-badge.svg\" alt=\"Open In Colab\"/></a>"
      ]
    },
    {
      "cell_type": "code",
      "metadata": {
        "id": "5uTMrLYVPe7r",
        "colab_type": "code",
        "colab": {
          "base_uri": "https://localhost:8080/",
          "height": 50
        },
        "outputId": "c2da10bf-f574-43fe-dfc6-333afc8a53c8"
      },
      "source": [
        "import pandas as pd\n",
        "import numpy as np\n",
        "import os\n",
        "import datetime\n",
        "\n",
        "import tensorflow as tf\n",
        "from tensorflow.keras.models import Sequential\n",
        "from tensorflow.keras.layers import Conv2D, MaxPool2D, Dense, Flatten, Dropout\n",
        "from tensorflow.keras.utils import to_categorical\n",
        "\n",
        "%load_ext tensorboard\n",
        "\n",
        "import matplotlib.pyplot as plt\n",
        "from skimage import color, exposure\n",
        "\n",
        "from sklearn.metrics import accuracy_score"
      ],
      "execution_count": 26,
      "outputs": [
        {
          "output_type": "stream",
          "text": [
            "The tensorboard extension is already loaded. To reload it, use:\n",
            "  %reload_ext tensorboard\n"
          ],
          "name": "stdout"
        }
      ]
    },
    {
      "cell_type": "code",
      "metadata": {
        "id": "J6-nck30QPte",
        "colab_type": "code",
        "colab": {
          "base_uri": "https://localhost:8080/",
          "height": 34
        },
        "outputId": "50c76dd5-c1dd-4a3c-901c-a90ef474d272"
      },
      "source": [
        "cd '/content/drive/My Drive/Colab Notebooks/matrix/matrix_three/dw_matrix_road_sign'"
      ],
      "execution_count": 4,
      "outputs": [
        {
          "output_type": "stream",
          "text": [
            "/content/drive/My Drive/Colab Notebooks/matrix/matrix_three/dw_matrix_road_sign\n"
          ],
          "name": "stdout"
        }
      ]
    },
    {
      "cell_type": "code",
      "metadata": {
        "id": "Rp1OfIJ_QUmk",
        "colab_type": "code",
        "colab": {}
      },
      "source": [
        "train = pd.read_pickle('data/train.p')\n",
        "test = pd.read_pickle('data/test.p')\n",
        "\n",
        "X_train, y_train = train['features'], train['labels']\n",
        "X_test, y_test = test['features'], test['labels']"
      ],
      "execution_count": 0,
      "outputs": []
    },
    {
      "cell_type": "code",
      "metadata": {
        "id": "dXnuU17qQjyr",
        "colab_type": "code",
        "colab": {}
      },
      "source": [
        "if y_train.ndim == 1: y_train = to_categorical(y_train)\n",
        "if y_test.ndim == 1: y_test = to_categorical(y_test)"
      ],
      "execution_count": 0,
      "outputs": []
    },
    {
      "cell_type": "code",
      "metadata": {
        "id": "Zr6zmldQQ2fT",
        "colab_type": "code",
        "colab": {}
      },
      "source": [
        "input_shape = X_train.shape[1:]\n",
        "num_classes = y_train.shape[1]"
      ],
      "execution_count": 0,
      "outputs": []
    },
    {
      "cell_type": "code",
      "metadata": {
        "id": "sEuh4Ra4Q41b",
        "colab_type": "code",
        "colab": {
          "base_uri": "https://localhost:8080/",
          "height": 50
        },
        "outputId": "7bc1d0f0-5352-409f-c39a-e957dad4929b"
      },
      "source": [
        "model = Sequential([\n",
        "  Conv2D(filters=64, kernel_size=(3, 3), activation='relu', input_shape=input_shape),\n",
        "\n",
        "  Flatten(),\n",
        "\n",
        "  Dense(num_classes, activation='softmax'),\n",
        "])\n",
        "\n",
        "#model.summary()\n",
        "\n",
        "model.compile(loss='categorical_crossentropy', optimizer='Adam', metrics=['accuracy'])\n",
        "model.fit(X_train, y_train)"
      ],
      "execution_count": 8,
      "outputs": [
        {
          "output_type": "stream",
          "text": [
            "1088/1088 [==============================] - 3s 3ms/step - loss: 13.9718 - accuracy: 0.8077\n"
          ],
          "name": "stdout"
        },
        {
          "output_type": "execute_result",
          "data": {
            "text/plain": [
              "<tensorflow.python.keras.callbacks.History at 0x7f487031ac88>"
            ]
          },
          "metadata": {
            "tags": []
          },
          "execution_count": 8
        }
      ]
    },
    {
      "cell_type": "code",
      "metadata": {
        "id": "Xfk-TiNfRNHL",
        "colab_type": "code",
        "colab": {}
      },
      "source": [
        "def get_cnn_v1(input_shape, num_classes):\n",
        "  return Sequential([\n",
        "    Conv2D(filters=64, kernel_size=(3, 3), activation='relu', input_shape=input_shape),\n",
        "\n",
        "    Flatten(),\n",
        "\n",
        "    Dense(num_classes, activation='softmax'),\n",
        "  ])\n",
        "\n",
        "def train_model(model, X_train, y_train, params_fit={}):\n",
        "  model.compile(loss='categorical_crossentropy', optimizer='Adam', metrics=['accuracy'])\n",
        "  model.fit(X_train, y_train)\n",
        "\n",
        "  logdir = os.path.join(\"logs\", datetime.datetime.now().strftime(\"%Y%m%d-%H%M%S\"))\n",
        "  tensorboard_callback = tf.keras.callbacks.TensorBoard(logdir, histogram_freq=1)\n",
        "\n",
        "  model.fit(\n",
        "      X_train,\n",
        "      y_train,\n",
        "      batch_size=params_fit.get('batch_size', 128),\n",
        "      epochs=params_fit.get('epochs', 5),\n",
        "      verbose=params_fit.get('verbose', 1),\n",
        "      validation_data=params_fit.get('validation_data', (X_train, y_train)),\n",
        "      callbacks=[tensorboard_callback]\n",
        "  )\n",
        "\n",
        "  return model"
      ],
      "execution_count": 0,
      "outputs": []
    },
    {
      "cell_type": "code",
      "metadata": {
        "id": "7zsBT6BlRaCj",
        "colab_type": "code",
        "colab": {
          "base_uri": "https://localhost:8080/",
          "height": 202
        },
        "outputId": "224334be-dbc4-4a2f-e25f-8b18dbe81d71"
      },
      "source": [
        "model = get_cnn_v1(input_shape, num_classes)\n",
        "trained_model = train_model(model, X_train, y_train)"
      ],
      "execution_count": 12,
      "outputs": [
        {
          "output_type": "stream",
          "text": [
            "1088/1088 [==============================] - 3s 3ms/step - loss: 9.1017 - accuracy: 0.7994\n",
            "Epoch 1/5\n",
            "272/272 [==============================] - 2s 9ms/step - loss: 0.1657 - accuracy: 0.9612 - val_loss: 0.0839 - val_accuracy: 0.9807\n",
            "Epoch 2/5\n",
            "272/272 [==============================] - 2s 9ms/step - loss: 0.0773 - accuracy: 0.9821 - val_loss: 0.0492 - val_accuracy: 0.9893\n",
            "Epoch 3/5\n",
            "272/272 [==============================] - 2s 9ms/step - loss: 0.0501 - accuracy: 0.9881 - val_loss: 0.0326 - val_accuracy: 0.9932\n",
            "Epoch 4/5\n",
            "272/272 [==============================] - 2s 9ms/step - loss: 0.0371 - accuracy: 0.9912 - val_loss: 0.0267 - val_accuracy: 0.9940\n",
            "Epoch 5/5\n",
            "272/272 [==============================] - 2s 9ms/step - loss: 0.0331 - accuracy: 0.9927 - val_loss: 0.0380 - val_accuracy: 0.9921\n"
          ],
          "name": "stdout"
        }
      ]
    },
    {
      "cell_type": "code",
      "metadata": {
        "id": "PY8JzG6UXTL4",
        "colab_type": "code",
        "colab": {}
      },
      "source": [
        "signs = pd.read_csv('data/signnames.csv')\n",
        "signs_dict = signs.to_dict()['b']"
      ],
      "execution_count": 0,
      "outputs": []
    },
    {
      "cell_type": "code",
      "metadata": {
        "id": "KT9YPEscRf_i",
        "colab_type": "code",
        "colab": {}
      },
      "source": [
        "def predict(trained_model, X_test, y_test, scoring=accuracy_score):\n",
        "\n",
        "  y_test_norm = np.argmax(y_test, axis=1)\n",
        "\n",
        "  y_pred_prob = trained_model.predict(X_test)\n",
        "  y_pred = np.argmax(y_pred_prob, axis=1)\n",
        "\n",
        "  return scoring(y_test_norm, y_pred)"
      ],
      "execution_count": 0,
      "outputs": []
    },
    {
      "cell_type": "code",
      "metadata": {
        "id": "YHzyoxauVZ1k",
        "colab_type": "code",
        "colab": {
          "base_uri": "https://localhost:8080/",
          "height": 282
        },
        "outputId": "5506bfda-ebaf-4aa8-e681-371f82ab8176"
      },
      "source": [
        "# plt.bar(range(43), y_pred_prob[400])"
      ],
      "execution_count": 25,
      "outputs": [
        {
          "output_type": "execute_result",
          "data": {
            "text/plain": [
              "<BarContainer object of 43 artists>"
            ]
          },
          "metadata": {
            "tags": []
          },
          "execution_count": 25
        },
        {
          "output_type": "display_data",
          "data": {
            "image/png": "[encoded data removed]",
            "text/plain": [
              "<Figure size 432x288 with 1 Axes>"
            ]
          },
          "metadata": {
            "tags": []
          }
        }
      ]
    },
    {
      "cell_type": "code",
      "metadata": {
        "id": "SpnWOJJTUf9Z",
        "colab_type": "code",
        "colab": {
          "base_uri": "https://localhost:8080/",
          "height": 34
        },
        "outputId": "d815f48d-cca0-4a5c-ea9e-16382fee9dd3"
      },
      "source": [
        "# signs_dict[ np.argmax(y_pred_prob[400]) ]"
      ],
      "execution_count": 23,
      "outputs": [
        {
          "output_type": "execute_result",
          "data": {
            "text/plain": [
              "'Speed limit (30km/h)'"
            ]
          },
          "metadata": {
            "tags": []
          },
          "execution_count": 23
        }
      ]
    },
    {
      "cell_type": "code",
      "metadata": {
        "id": "0dtflNQpXWSB",
        "colab_type": "code",
        "colab": {
          "base_uri": "https://localhost:8080/",
          "height": 34
        },
        "outputId": "07279e80-38d9-4301-d776-88f007829f38"
      },
      "source": [
        "predict(trained_model, X_test, y_test)"
      ],
      "execution_count": 29,
      "outputs": [
        {
          "output_type": "execute_result",
          "data": {
            "text/plain": [
              "0.85578231292517"
            ]
          },
          "metadata": {
            "tags": []
          },
          "execution_count": 29
        }
      ]
    },
    {
      "cell_type": "code",
      "metadata": {
        "id": "bAG47PvcYvYH",
        "colab_type": "code",
        "colab": {}
      },
      "source": [
        "def train_and_predict(model):\n",
        "  trained_model = train_model(model, X_train, y_train)\n",
        "  return predict(trained_model, X_test, y_test)"
      ],
      "execution_count": 0,
      "outputs": []
    },
    {
      "cell_type": "code",
      "metadata": {
        "id": "gpfv5UK-XutR",
        "colab_type": "code",
        "colab": {
          "base_uri": "https://localhost:8080/",
          "height": 218
        },
        "outputId": "35826366-af22-4cdd-e48b-bf191fe63d6f"
      },
      "source": [
        "def get_cnn_v2(input_shape, num_classes):\n",
        "  return Sequential([\n",
        "    Conv2D(filters=32, kernel_size=(3, 3), activation='relu', input_shape=input_shape),\n",
        "    MaxPool2D(),\n",
        "    Dropout(0.3),\n",
        "\n",
        "    Conv2D(filters=64, kernel_size=(3, 3), activation='relu'),\n",
        "    MaxPool2D(),\n",
        "    Dropout(0.3),\n",
        "    \n",
        "    Flatten(),\n",
        "\n",
        "    Dense(1024, activation='relu'),\n",
        "    Dropout(0.3),\n",
        "\n",
        "    Dense(num_classes, activation='softmax'),\n",
        "  ])\n",
        "\n",
        "train_and_predict( get_cnn_v2(input_shape, num_classes) )"
      ],
      "execution_count": 34,
      "outputs": [
        {
          "output_type": "stream",
          "text": [
            "1088/1088 [==============================] - 4s 3ms/step - loss: 3.3433 - accuracy: 0.3995\n",
            "Epoch 1/5\n",
            "272/272 [==============================] - 3s 10ms/step - loss: 0.5684 - accuracy: 0.8285 - val_loss: 0.1982 - val_accuracy: 0.9601\n",
            "Epoch 2/5\n",
            "272/272 [==============================] - 2s 9ms/step - loss: 0.3630 - accuracy: 0.8890 - val_loss: 0.1225 - val_accuracy: 0.9776\n",
            "Epoch 3/5\n",
            "272/272 [==============================] - 2s 9ms/step - loss: 0.2748 - accuracy: 0.9170 - val_loss: 0.0697 - val_accuracy: 0.9849\n",
            "Epoch 4/5\n",
            "272/272 [==============================] - 2s 9ms/step - loss: 0.2270 - accuracy: 0.9321 - val_loss: 0.0521 - val_accuracy: 0.9912\n",
            "Epoch 5/5\n",
            "272/272 [==============================] - 2s 9ms/step - loss: 0.1944 - accuracy: 0.9426 - val_loss: 0.0431 - val_accuracy: 0.9922\n"
          ],
          "name": "stdout"
        },
        {
          "output_type": "execute_result",
          "data": {
            "text/plain": [
              "0.9331065759637188"
            ]
          },
          "metadata": {
            "tags": []
          },
          "execution_count": 34
        }
      ]
    },
    {
      "cell_type": "code",
      "metadata": {
        "id": "XjzmziH8ZNQZ",
        "colab_type": "code",
        "colab": {
          "base_uri": "https://localhost:8080/",
          "height": 218
        },
        "outputId": "362091ba-e71d-4e9a-dacf-da48f715eda4"
      },
      "source": [
        "def get_cnn_v3(input_shape, num_classes):\n",
        "  return Sequential([\n",
        "    Conv2D(filters=32, kernel_size=(3, 3), activation='relu', input_shape=input_shape),\n",
        "    Conv2D(filters=32, kernel_size=(3, 3), activation='relu'),\n",
        "    MaxPool2D(),\n",
        "    Dropout(0.3),\n",
        "\n",
        "    Conv2D(filters=64, kernel_size=(3, 3), activation='relu', input_shape=input_shape),\n",
        "    Conv2D(filters=64, kernel_size=(3, 3), activation='relu'),\n",
        "    MaxPool2D(),\n",
        "    Dropout(0.3),\n",
        "    \n",
        "    Flatten(),\n",
        "\n",
        "    Dense(1024, activation='relu'),\n",
        "    Dropout(0.3),\n",
        "\n",
        "    Dense(num_classes, activation='softmax'),\n",
        "  ])\n",
        "\n",
        "train_and_predict( get_cnn_v3(input_shape, num_classes) )"
      ],
      "execution_count": 35,
      "outputs": [
        {
          "output_type": "stream",
          "text": [
            "1088/1088 [==============================] - 4s 4ms/step - loss: 1.3393 - accuracy: 0.6643\n",
            "Epoch 1/5\n",
            "272/272 [==============================] - 3s 12ms/step - loss: 0.2683 - accuracy: 0.9176 - val_loss: 0.0730 - val_accuracy: 0.9826\n",
            "Epoch 2/5\n",
            "272/272 [==============================] - 3s 11ms/step - loss: 0.1702 - accuracy: 0.9479 - val_loss: 0.0360 - val_accuracy: 0.9911\n",
            "Epoch 3/5\n",
            "272/272 [==============================] - 3s 11ms/step - loss: 0.1370 - accuracy: 0.9570 - val_loss: 0.0250 - val_accuracy: 0.9932\n",
            "Epoch 4/5\n",
            "272/272 [==============================] - 3s 11ms/step - loss: 0.1140 - accuracy: 0.9656 - val_loss: 0.0184 - val_accuracy: 0.9957\n",
            "Epoch 5/5\n",
            "272/272 [==============================] - 3s 11ms/step - loss: 0.0965 - accuracy: 0.9706 - val_loss: 0.0104 - val_accuracy: 0.9980\n"
          ],
          "name": "stdout"
        },
        {
          "output_type": "execute_result",
          "data": {
            "text/plain": [
              "0.9643990929705215"
            ]
          },
          "metadata": {
            "tags": []
          },
          "execution_count": 35
        }
      ]
    },
    {
      "cell_type": "code",
      "metadata": {
        "id": "butzZb3MZ6zj",
        "colab_type": "code",
        "colab": {
          "base_uri": "https://localhost:8080/",
          "height": 218
        },
        "outputId": "b5e95a54-af08-4364-d79b-742afb8b9d88"
      },
      "source": [
        "def get_cnn_v4(input_shape, num_classes):\n",
        "  return Sequential([\n",
        "    Conv2D(filters=32, kernel_size=(3, 3), activation='relu', input_shape=input_shape),\n",
        "    Conv2D(filters=32, kernel_size=(3, 3), activation='relu', padding='same'),\n",
        "    MaxPool2D(),\n",
        "    Dropout(0.3),\n",
        "\n",
        "    Conv2D(filters=64, kernel_size=(3, 3), activation='relu', padding='same'),\n",
        "    Conv2D(filters=64, kernel_size=(3, 3), activation='relu'),\n",
        "    MaxPool2D(),\n",
        "    Dropout(0.3),\n",
        "\n",
        "    Conv2D(filters=64, kernel_size=(3, 3), activation='relu', padding='same'),\n",
        "    Conv2D(filters=64, kernel_size=(3, 3), activation='relu'),\n",
        "    MaxPool2D(),\n",
        "    Dropout(0.3),\n",
        "    \n",
        "    Flatten(),\n",
        "\n",
        "    Dense(1024, activation='relu'),\n",
        "    Dropout(0.3),\n",
        "\n",
        "    Dense(num_classes, activation='softmax'),\n",
        "  ])\n",
        "\n",
        "# get_cnn_v4(input_shape, num_classes).summary()\n",
        "train_and_predict( get_cnn_v4(input_shape, num_classes) )"
      ],
      "execution_count": 40,
      "outputs": [
        {
          "output_type": "stream",
          "text": [
            "1088/1088 [==============================] - 5s 5ms/step - loss: 1.8822 - accuracy: 0.4680\n",
            "Epoch 1/5\n",
            "272/272 [==============================] - 4s 14ms/step - loss: 0.6053 - accuracy: 0.8053 - val_loss: 0.2130 - val_accuracy: 0.9440\n",
            "Epoch 2/5\n",
            "272/272 [==============================] - 3s 13ms/step - loss: 0.4144 - accuracy: 0.8661 - val_loss: 0.1657 - val_accuracy: 0.9497\n",
            "Epoch 3/5\n",
            "272/272 [==============================] - 3s 13ms/step - loss: 0.3104 - accuracy: 0.9019 - val_loss: 0.1127 - val_accuracy: 0.9627\n",
            "Epoch 4/5\n",
            "272/272 [==============================] - 3s 13ms/step - loss: 0.2548 - accuracy: 0.9203 - val_loss: 0.0708 - val_accuracy: 0.9788\n",
            "Epoch 5/5\n",
            "272/272 [==============================] - 3s 13ms/step - loss: 0.2110 - accuracy: 0.9349 - val_loss: 0.0618 - val_accuracy: 0.9815\n"
          ],
          "name": "stdout"
        },
        {
          "output_type": "execute_result",
          "data": {
            "text/plain": [
              "0.9603174603174603"
            ]
          },
          "metadata": {
            "tags": []
          },
          "execution_count": 40
        }
      ]
    },
    {
      "cell_type": "code",
      "metadata": {
        "id": "nBCr2inaaQ65",
        "colab_type": "code",
        "colab": {
          "base_uri": "https://localhost:8080/",
          "height": 218
        },
        "outputId": "7f387333-2402-4e0d-fecd-c166fa21f90c"
      },
      "source": [
        "def get_cnn_v5(input_shape, num_classes):\n",
        "  return Sequential([\n",
        "    Conv2D(filters=32, kernel_size=(3, 3), activation='relu', input_shape=input_shape),\n",
        "    Conv2D(filters=32, kernel_size=(3, 3), activation='relu', padding='same'),\n",
        "    MaxPool2D(),\n",
        "    Dropout(0.3),\n",
        "\n",
        "    Conv2D(filters=64, kernel_size=(3, 3), activation='relu', padding='same'),\n",
        "    Conv2D(filters=64, kernel_size=(3, 3), activation='relu'),\n",
        "    MaxPool2D(),\n",
        "    Dropout(0.3),\n",
        "\n",
        "    Conv2D(filters=64, kernel_size=(3, 3), activation='relu', padding='same'),\n",
        "    Conv2D(filters=64, kernel_size=(3, 3), activation='relu'),\n",
        "    MaxPool2D(),\n",
        "    Dropout(0.3),\n",
        "    \n",
        "    Flatten(),\n",
        "\n",
        "    Dense(1024, activation='relu'),\n",
        "    Dropout(0.3),\n",
        "\n",
        "    Dense(1024, activation='relu'),\n",
        "    Dropout(0.3),\n",
        "\n",
        "    Dense(num_classes, activation='softmax'),\n",
        "  ])\n",
        "\n",
        "# get_cnn_v4(input_shape, num_classes).summary()\n",
        "train_and_predict( get_cnn_v5(input_shape, num_classes) )"
      ],
      "execution_count": 60,
      "outputs": [
        {
          "output_type": "stream",
          "text": [
            "1088/1088 [==============================] - 5s 5ms/step - loss: 1.9307 - accuracy: 0.4376\n",
            "Epoch 1/5\n",
            "272/272 [==============================] - 4s 15ms/step - loss: 0.5326 - accuracy: 0.8249 - val_loss: 0.1681 - val_accuracy: 0.9500\n",
            "Epoch 2/5\n",
            "272/272 [==============================] - 4s 14ms/step - loss: 0.3343 - accuracy: 0.8918 - val_loss: 0.0788 - val_accuracy: 0.9791\n",
            "Epoch 3/5\n",
            "272/272 [==============================] - 4s 14ms/step - loss: 0.2394 - accuracy: 0.9251 - val_loss: 0.0632 - val_accuracy: 0.9827\n",
            "Epoch 4/5\n",
            "272/272 [==============================] - 4s 14ms/step - loss: 0.1926 - accuracy: 0.9412 - val_loss: 0.0500 - val_accuracy: 0.9866\n",
            "Epoch 5/5\n",
            "272/272 [==============================] - 4s 14ms/step - loss: 0.1618 - accuracy: 0.9510 - val_loss: 0.0246 - val_accuracy: 0.9923\n"
          ],
          "name": "stdout"
        },
        {
          "output_type": "execute_result",
          "data": {
            "text/plain": [
              "0.9678004535147392"
            ]
          },
          "metadata": {
            "tags": []
          },
          "execution_count": 60
        }
      ]
    },
    {
      "cell_type": "code",
      "metadata": {
        "id": "PQa1T6rYcocq",
        "colab_type": "code",
        "colab": {}
      },
      "source": [
        "X_train_gray = color.rgb2gray( X_train ).reshape(-1, 32, 32, 1)\n",
        "X_test_gray = color.rgb2gray( X_test ).reshape(-1, 32, 32, 1)"
      ],
      "execution_count": 0,
      "outputs": []
    },
    {
      "cell_type": "code",
      "metadata": {
        "id": "VnPViADzdBC3",
        "colab_type": "code",
        "colab": {
          "base_uri": "https://localhost:8080/",
          "height": 218
        },
        "outputId": "d8141269-7c42-4ea4-b1fb-0fa55077bfd7"
      },
      "source": [
        "model = get_cnn_v5((32, 32, 1), num_classes) \n",
        "trained_model = train_model(model, X_train_gray, y_train, params_fit={})\n",
        "predict(trained_model, X_test_gray, y_test)"
      ],
      "execution_count": 62,
      "outputs": [
        {
          "output_type": "stream",
          "text": [
            "1088/1088 [==============================] - 5s 5ms/step - loss: 2.4187 - accuracy: 0.3193\n",
            "Epoch 1/5\n",
            "272/272 [==============================] - 4s 14ms/step - loss: 0.4622 - accuracy: 0.8492 - val_loss: 0.1373 - val_accuracy: 0.9565\n",
            "Epoch 2/5\n",
            "272/272 [==============================] - 4s 14ms/step - loss: 0.2951 - accuracy: 0.9045 - val_loss: 0.0720 - val_accuracy: 0.9795\n",
            "Epoch 3/5\n",
            "272/272 [==============================] - 4s 14ms/step - loss: 0.2122 - accuracy: 0.9324 - val_loss: 0.0483 - val_accuracy: 0.9857\n",
            "Epoch 4/5\n",
            "272/272 [==============================] - 4s 14ms/step - loss: 0.1717 - accuracy: 0.9461 - val_loss: 0.0335 - val_accuracy: 0.9901\n",
            "Epoch 5/5\n",
            "272/272 [==============================] - 4s 14ms/step - loss: 0.1352 - accuracy: 0.9583 - val_loss: 0.0249 - val_accuracy: 0.9923\n"
          ],
          "name": "stdout"
        },
        {
          "output_type": "execute_result",
          "data": {
            "text/plain": [
              "0.9650793650793651"
            ]
          },
          "metadata": {
            "tags": []
          },
          "execution_count": 62
        }
      ]
    },
    {
      "cell_type": "code",
      "metadata": {
        "id": "7pjkZN9kbs_L",
        "colab_type": "code",
        "colab": {
          "base_uri": "https://localhost:8080/",
          "height": 283
        },
        "outputId": "5a83e30f-bffd-4032-c2ab-987869a02d07"
      },
      "source": [
        "# plt.imshow( color.rgb2gray( X_train[0] ), cmap=plt.get_cmap('gray') )"
      ],
      "execution_count": 43,
      "outputs": [
        {
          "output_type": "execute_result",
          "data": {
            "text/plain": [
              "<matplotlib.image.AxesImage at 0x7f47fa217be0>"
            ]
          },
          "metadata": {
            "tags": []
          },
          "execution_count": 43
        },
        {
          "output_type": "display_data",
          "data": {
            "image/png": "[encoded data removed]",
            "text/plain": [
              "<Figure size 432x288 with 1 Axes>"
            ]
          },
          "metadata": {
            "tags": []
          }
        }
      ]
    },
    {
      "cell_type": "code",
      "metadata": {
        "id": "FbA-QvttcOrQ",
        "colab_type": "code",
        "colab": {}
      },
      "source": [
        ""
      ],
      "execution_count": 0,
      "outputs": []
    }
  ]
}